{
  "cells": [
    {
      "cell_type": "markdown",
      "metadata": {
        "id": "O8lV4mMFtg4r"
      },
      "source": [
        "# Kilosort 4\n",
        "\n",
        "To run kilosort4 on Google Colab"
      ]
    },
    {
      "cell_type": "code",
      "execution_count": null,
      "metadata": {
        "colab": {
          "base_uri": "https://localhost:8080/"
        },
        "id": "guO6fp8ia73f",
        "outputId": "41141738-2d1e-4345-db3c-1706fe8519dc"
      },
      "outputs": [
        {
          "name": "stdout",
          "output_type": "stream",
          "text": [
            "Mounted at /content/drive\n"
          ]
        }
      ],
      "source": [
        "from google.colab import drive\n",
        "drive.mount('/content/drive')"
      ]
    },
    {
      "cell_type": "markdown",
      "metadata": {
        "id": "z8aqJH69e6Uo"
      },
      "source": [
        "***\n",
        "## Import and Install Libraries"
      ]
    },
    {
      "cell_type": "code",
      "execution_count": 8,
      "metadata": {
        "colab": {
          "base_uri": "https://localhost:8080/"
        },
        "id": "h1pY_Qdps78T",
        "outputId": "07dd99e4-ea19-4f46-8cb0-85f6ebb082ff"
      },
      "outputs": [],
      "source": [
        "import os\n",
        "import re\n",
        "import sys\n",
        "import time\n",
        "import warnings\n",
        "import argparse\n",
        "import subprocess\n",
        "import numpy as np\n",
        "import pandas as pd\n",
        "from pathlib import Path\n",
        "import matplotlib.pyplot as plt\n",
        "from collections import defaultdict\n",
        "from matplotlib import gridspec, rcParams\n",
        "warnings.simplefilter(\"ignore\")\n",
        "# install kilosort\n",
        "# !pip install kilosort\n",
        "from kilosort import run_kilosort\n",
        "\n",
        "\n",
        "# sys.path.append('/content/drive/MyDrive/Columbia/Salzman/Projects/Spike-Sorting/Kilosort4-SGLX')"
      ]
    },
    {
      "cell_type": "markdown",
      "metadata": {
        "id": "LNpa4hj8e177"
      },
      "source": [
        "***\n",
        "## Find Recording Folders"
      ]
    },
    {
      "cell_type": "code",
      "execution_count": 14,
      "metadata": {
        "colab": {
          "base_uri": "https://localhost:8080/"
        },
        "id": "1GfGnTFsuW0j",
        "outputId": "76c07bfe-c5a7-428d-ad5f-1c34a9308943"
      },
      "outputs": [
        {
          "name": "stdout",
          "output_type": "stream",
          "text": [
            "SpikeGLX folder: C:/Users/Alejandro/Downloads\\gandalf_20240515_g0\n"
          ]
        },
        {
          "data": {
            "text/plain": [
              "{'imec0': 'C:/Users/Alejandro/Downloads\\\\gandalf_20240515_g0\\\\gandalf_20240515_g0_imec0'}"
            ]
          },
          "execution_count": 14,
          "metadata": {},
          "output_type": "execute_result"
        }
      ],
      "source": [
        "ks_path = os.getcwd()\n",
        "# ks_path = '/content/drive/MyDrive/Columbia/Salzman/Projects/Spike-Sorting/Kilosort4-SGLX'\n",
        "\n",
        "def read_recording_folder(root, monkey, date, session_num=0):\n",
        "\tsglx_folder = os.path.join(root, f'{monkey}_{date}_g{session_num}')\n",
        "\timec_folder_dict = defaultdict(str)\n",
        "\tprint(f'SpikeGLX folder: {sglx_folder}')\n",
        "\t# check if it exists\n",
        "\tif not os.path.exists(sglx_folder):\n",
        "\t\tsys.exit(f'{sglx_folder} does not exist')\n",
        "\t# print all folders that have imec<int> in them\n",
        "\tfor root, dirs, files in os.walk(sglx_folder):\n",
        "\t\tfor folder in dirs:\n",
        "\t\t\t# only if the directory ends with imec<int>\n",
        "\t\t\tif re.search('imec\\d$', folder):\n",
        "\t\t\t\timec_num = re.search('imec\\d$', folder).group()\n",
        "\t\t\t\timec_folder_dict[imec_num] = os.path.join(root, folder)\n",
        "\tif not imec_folder_dict:\n",
        "\t\ttry:\n",
        "\t\t\tprint(os.listdir(root))\n",
        "\t\texcept:\n",
        "\t\t\tprint(f'{root} missing')\n",
        "\t\tsys.exit(f'No imec folders found in {sglx_folder}')\n",
        "\t# order the dictionary\n",
        "\timec_folder_dict = dict(sorted(imec_folder_dict.items(), key=lambda item: item[1]))\n",
        "\treturn sglx_folder, imec_folder_dict\n",
        "\n",
        "# root='/content/drive/Othercomputers/Ephys/E:'\n",
        "# root = 'E:'\n",
        "root = \"C:/Users/Alejandro/Downloads\"\n",
        "monkey = 'gandalf'\n",
        "date = '20240515'\n",
        "session_num = 0\n",
        "sglx_folder, imec_folder_dict = read_recording_folder(root, monkey, date, session_num)\n",
        "\n",
        "imec_folder_dict"
      ]
    },
    {
      "cell_type": "markdown",
      "metadata": {
        "id": "mXH7JhRXf7yI"
      },
      "source": [
        "***\n",
        "## Run CatGT"
      ]
    },
    {
      "cell_type": "code",
      "execution_count": 15,
      "metadata": {
        "colab": {
          "base_uri": "https://localhost:8080/"
        },
        "id": "svOvv-qufXwO",
        "outputId": "6b7d5ad8-b288-464d-9830-d322b5f4caf0"
      },
      "outputs": [
        {
          "name": "stdout",
          "output_type": "stream",
          "text": [
            "Running CatGT on C:/Users/Alejandro/Downloads\\gandalf_20240515_g0\n",
            "  Bash command: runit.bat -dir=C:/Users/Alejandro/Downloads -run=gandalf_20240515 -prb_fld -g=0 -t=0 -ni -prb=0 -ap -no_tshift \n",
            "  CatGT complete. Time elapsed: 62.27 seconds\n"
          ]
        }
      ],
      "source": [
        "run_catgt = True\n",
        "cat_prb_fld = '0:2'\n",
        "catgt_path = os.path.join(ks_path, 'CatGT-win')\n",
        "\n",
        "if run_catgt:\n",
        "\tsys.path.append(catgt_path)\n",
        "\tif not os.path.exists(catgt_path):\n",
        "\t\tprint(f'CatGT Missing: ')\n",
        "\tprint(f\"Running CatGT on {sglx_folder}\")\n",
        "\t# time how long it takes\n",
        "\tstart_time = time.time()\n",
        "\t# to run CatGT and generate tcat files with gblcar\n",
        "\t# catgt_command = f\"runit.bat -dir={root} -run={monkey}_{date} -prb_fld -g={session_num} -t=0 -ni -prb={cat_prb_fld} -ap \"\n",
        "\t# to extract sync signals and not run CatGT \n",
        "\tcatgt_command = f\"runit.bat -dir={root} -run={monkey}_{date} -prb_fld -g={session_num} -t=0 -ni -prb={cat_prb_fld} -ap -no_tshift \"\n",
        "\tprint(f\"  Bash command: {catgt_command}\")\n",
        "\tsubprocess.run(catgt_command, cwd=catgt_path, shell=True)\n",
        "\tprint(f\"  CatGT complete. Time elapsed: {time.time() - start_time:.2f} seconds\")\n"
      ]
    },
    {
      "cell_type": "markdown",
      "metadata": {
        "id": "3H4BD7mLexsn"
      },
      "source": [
        "***\n",
        "## Run Kilosort"
      ]
    },
    {
      "cell_type": "code",
      "execution_count": 16,
      "metadata": {
        "colab": {
          "base_uri": "https://localhost:8080/"
        },
        "id": "PGS-3oCKsyS1",
        "outputId": "ff6afcdd-6a6b-4c37-85d2-3ec39d7f71bc"
      },
      "outputs": [
        {
          "name": "stdout",
          "output_type": "stream",
          "text": [
            "imec0 folder: C:/Users/Alejandro/Downloads\\gandalf_20240515_g0\\gandalf_20240515_g0\\gandalf_20240515_g0_imec0\n",
            "Interpreting binary file as default dtype='int16'. If data was saved in a different format, specify `data_dtype`.\n",
            "Using GPU for PyTorch computations. Specify `device` to change this.\n",
            "using probe neuropixels_NHP_channel_map_linear_v1.mat\n",
            "Preprocessing filters computed in  12.50s; total  12.51s\n",
            "\n",
            "computing drift\n",
            "Re-computing universal templates from data.\n"
          ]
        },
        {
          "name": "stderr",
          "output_type": "stream",
          "text": [
            "100%|██████████| 2338/2338 [38:17<00:00,  1.02it/s]\n"
          ]
        },
        {
          "name": "stdout",
          "output_type": "stream",
          "text": [
            "drift computed in  2345.32s; total  2357.83s\n",
            "\n",
            "Extracting spikes using templates\n",
            "Re-computing universal templates from data.\n"
          ]
        },
        {
          "name": "stderr",
          "output_type": "stream",
          "text": [
            "100%|██████████| 2338/2338 [37:23<00:00,  1.04it/s]\n"
          ]
        },
        {
          "name": "stdout",
          "output_type": "stream",
          "text": [
            "5601216 spikes extracted in  2262.18s; total  4620.07s\n",
            "\n",
            "First clustering\n"
          ]
        },
        {
          "name": "stderr",
          "output_type": "stream",
          "text": [
            "100%|██████████| 96/96 [05:11<00:00,  3.25s/it]\n"
          ]
        },
        {
          "name": "stdout",
          "output_type": "stream",
          "text": [
            "978 clusters found, in  314.30s; total  4934.36s\n",
            "\n",
            "Extracting spikes using cluster waveforms\n"
          ]
        },
        {
          "name": "stderr",
          "output_type": "stream",
          "text": [
            "100%|██████████| 2338/2338 [17:18<00:00,  2.25it/s]\n"
          ]
        },
        {
          "name": "stdout",
          "output_type": "stream",
          "text": [
            "7069390 spikes extracted in  1039.27s; total  5973.63s\n",
            "\n",
            "Final clustering\n"
          ]
        },
        {
          "name": "stderr",
          "output_type": "stream",
          "text": [
            "100%|██████████| 96/96 [06:15<00:00,  3.91s/it]\n"
          ]
        },
        {
          "name": "stdout",
          "output_type": "stream",
          "text": [
            "706 clusters found, in  375.49s; total  6349.13s\n",
            "\n",
            "Merging clusters\n",
            "621 units found, in  15.02s; total  6364.16s\n",
            "\n",
            "Saving to phy and computing refractory periods\n",
            "286 units found with good refractory periods\n",
            "\n",
            "Total runtime: 6417.66s = 01:46:58 h:m:s\n",
            "Error in running Kilosort4 for imec0\n"
          ]
        }
      ],
      "source": [
        "def run_kilosort4(imec_num, settings, results):\n",
        "\tdefault_kilosort_settings = {'n_chan_bin': 385}\n",
        "\ttry:\n",
        "\t\tops, st, clu, tF, Wall, similar_templates, is_ref, est_contam_rate = \\\n",
        "\t\t\t\trun_kilosort(settings=default_kilosort_settings,\n",
        "\t\t\t\t\t\t\t\t\t\tprobe_name=settings['probe_name'],\n",
        "\t\t\t\t\t\t\t\t\t\tfilename=settings['filename'],\n",
        "\t\t\t\t\t\t\t\t\t\tresults_dir=settings['results_dir'],\n",
        "\t\t\t\t\t\t\t\t\t\tdo_CAR=settings['do_CAR'],)\n",
        "\t\tresults[imec_num] = {'ops': ops,\n",
        "\t\t\t\t\t\t\t\t\t\t\t\t'st': st, \n",
        "\t\t\t\t\t\t\t\t\t\t\t\t'clu': clu, \n",
        "\t\t\t\t\t\t\t\t\t\t\t\t'tF': tF, \n",
        "\t\t\t\t\t\t\t\t\t\t\t\t'Wall': Wall, \n",
        "\t\t\t\t\t\t\t\t\t\t\t\t'similar_templates': similar_templates, \n",
        "\t\t\t\t\t\t\t\t\t\t\t\t'is_ref': is_ref, \n",
        "\t\t\t\t\t\t\t\t\t\t\t\t'est_contam_rate': est_contam_rate}\n",
        "\texcept:\n",
        "\t\tprint(f'Error in running Kilosort4 for {imec_num}')\n",
        "\treturn results\n",
        "\n",
        "map_file = os.path.join(os.getcwd(), 'configFiles/neuropixels_NHP_channel_map_linear_v1.mat')\n",
        "n_channels = 385\n",
        "results = defaultdict(lambda: defaultdict(dict))\n",
        "\n",
        "for imec_num, imec_folder in imec_folder_dict.items():\n",
        "\tprint(f'{imec_num} folder: {imec_folder}')\n",
        "\tdata_dir = imec_folder\n",
        "\tsave_path = os.path.join(imec_folder, f'{monkey}_{date}_g{session_num}_{imec_num}_ks4')\n",
        "\tbin_file = os.path.join(imec_folder, f'{monkey}_{date}_g{session_num}_t0.{imec_num}.ap.bin')\n",
        "\tif not os.path.exists(bin_file):\n",
        "\t\tprint(f'{bin_file} does not exist')\n",
        "\t\tcontinue\n",
        "\tsettings = {'filename': bin_file,\n",
        "\t\t\t\t\t\t\t'results_dir': save_path,\n",
        "\t\t\t\t\t\t\t'do_CAR': True,\n",
        "\t\t\t\t\t\t\t'n_channels': n_channels,\n",
        "\t\t\t\t\t\t\t'probe_name': map_file}\n",
        "\trun_kilosort4(imec_num, settings, results)"
      ]
    },
    {
      "cell_type": "markdown",
      "metadata": {
        "id": "judqt7DlhW3R"
      },
      "source": [
        "***\n",
        "## Run TPrime"
      ]
    },
    {
      "cell_type": "code",
      "execution_count": 13,
      "metadata": {
        "id": "YD8oERznhZdy"
      },
      "outputs": [
        {
          "name": "stdout",
          "output_type": "stream",
          "text": [
            "Reading C:/Users/Alejandro/Downloads\\gandalf_20240515_g0\\gandalf_20240515_g0_imec0\\gandalf_20240515_g0_t0.imec0.ap.bin\n",
            "\tConverting spike times to seconds...\n",
            "\tSampling rate: 29999.98\n",
            "\t\tGenerating C:/Users/Alejandro/Downloads\\gandalf_20240515_g0\\gandalf_20240515_g0_imec0\\gandalf_20240515_g0_imec0_ks4\\spike_times_sec.txt\n",
            "\t\tDone.\n",
            "TPrime struct: defaultdict(<class 'list'>, {'nidq': 'C:/Users/Alejandro/Downloads\\\\gandalf_20240515_g0\\\\gandalf_20240515_g0_tcat.nidq.xd_8_0_500.txt', 'sec_files': ['C:/Users/Alejandro/Downloads\\\\gandalf_20240515_g0\\\\gandalf_20240515_g0_imec0\\\\gandalf_20240515_g0_imec0_ks4\\\\spike_times_sec.txt'], 'imec': ['C:/Users/Alejandro/Downloads\\\\gandalf_20240515_g0\\\\gandalf_20240515_g0_imec0\\\\gandalf_20240515_g0_tcat.imec0.ap.xd_384_6_500.txt']})\n",
            "Running TPrime...\n",
            "  Bash command: runit.bat -syncperiod=1.0 -tostream=C:/Users/Alejandro/Downloads\\gandalf_20240515_g0\\gandalf_20240515_g0_tcat.nidq.xd_8_0_500.txt -fromstream=0,C:/Users/Alejandro/Downloads\\gandalf_20240515_g0\\gandalf_20240515_g0_imec0\\gandalf_20240515_g0_tcat.imec0.ap.xd_384_6_500.txt -events=0,C:/Users/Alejandro/Downloads\\gandalf_20240515_g0\\gandalf_20240515_g0_imec0\\gandalf_20240515_g0_imec0_ks4\\spike_times_sec.txt,C:/Users/Alejandro/Downloads\\gandalf_20240515_g0\\gandalf_20240515_g0_imec0\\gandalf_20240515_g0_imec0_ks4\\spike_times_sec_adj.txt\n",
            "  CatGT complete. Time elapsed: 20.83 seconds\n"
          ]
        }
      ],
      "source": [
        "from pathlib import Path\n",
        "\n",
        "run_tprime = True\n",
        "sglx_tools = os.path.join(ks_path, 'SpikeGLX_Datafile_Tools/Python/DemoReadSGLXData')\n",
        "sys.path.append(sglx_tools)\n",
        "from readSGLX import readMeta\n",
        "\n",
        "if run_tprime:\n",
        "\ttprime_struct = defaultdict(list)\n",
        "\ttprime_path = os.path.join(ks_path, 'TPrime-win')\n",
        "\t# find all files in the session folder that have the string 'tcat.nidq.xd'\n",
        "\ttry:\n",
        "\t\ttprime_struct['nidq'] = os.path.join(sglx_folder, \n",
        "\t\t\t\t\t\t\t\t\t\t\t\t\t[f for f in os.listdir(sglx_folder) if 'tcat.nidq.xd' in f][0])\n",
        "\texcept:\n",
        "\t\t\tprint('   WARNING: Missing tcat.nidq.xd file. TPrime will not run.')\n",
        "\tfor imec_num, imec_folder in imec_folder_dict.items():\n",
        "\t\tmeta_file = [f for f in os.listdir(imec_folder) if f.endswith('.meta')][0]\n",
        "\t\tbin_file = os.path.join(imec_folder, f'{monkey}_{date}_g{session_num}_t0.{imec_num}.ap.bin')\n",
        "\t\tprint(f'Reading {bin_file}')\n",
        "\t\tbin_file_path = Path(bin_file)\n",
        "\t\tmeta_file = readMeta(bin_file_path)\n",
        "\t\tprint(\"\\tConverting spike times to seconds...\")\n",
        "\t\tsample_rate = float(meta_file['imSampRate'])\n",
        "\t\tprint(f\"\\tSampling rate: {sample_rate:.2f}\")\n",
        "\t\tsave_path = os.path.join(imec_folder, f'{monkey}_{date}_g{session_num}_{imec_num}_ks4')\n",
        "\t\tspike_times = np.load(os.path.join(save_path, 'spike_times.npy'))\n",
        "\t\t# keep full precision\n",
        "\t\t# spike_times_sec = spike_times / sample_rate\n",
        "\t\tspike_times_sec_file = os.path.join(save_path, \"spike_times_sec.txt\")\n",
        "\t\t# with open(spike_times_sec_file, 'w') as f:\n",
        "\t\t# \t\tfor spike_time in spike_times_sec:\n",
        "\t\t# \t\t\t\tf.write(f\"{spike_time}\\n\")\n",
        "\t\tprint(f\"\\t\\tGenerating {spike_times_sec_file}\")\n",
        "\t\tprint(\"\\t\\tDone.\")\n",
        "\t\ttprime_struct['sec_files'].append(spike_times_sec_file)\n",
        "\t\t# add all files that have the string 'tcat.<imec_num>.ap.xd*' in them\n",
        "\t\ttprime_struct['imec'].append(os.path.join(imec_folder,\n",
        "\t\t\t\t\t\t\t\t\t\t\t\t\t\t[f for f in os.listdir(imec_folder) if 'tcat' in f and 'ap.xd' in f][0]))\n",
        "\tprint(f'TPrime struct: {tprime_struct}')\n",
        "\tprint(f'Running TPrime...')\n",
        "\t# time how long it takes\n",
        "\tstart_time = time.time()\n",
        "\t# to run TPrime and generate spike_times_adj.npy\n",
        "\ttprime_command = f'runit.bat -syncperiod=1.0 -tostream={tprime_struct[\"nidq\"]}'\n",
        "\tif not tprime_struct['sec_files']:\n",
        "\t\tsys.exit('No spike_times_sec.txt files found')\n",
        "\tif not tprime_struct['imec']:\n",
        "\t\tsys.exit('No imec files found')\n",
        "\tfor idx, imec in enumerate(tprime_struct['imec']):\n",
        "\t\ttprime_sec_final = tprime_struct['sec_files'][idx].replace('.txt', '_adj.txt')\n",
        "\t\ttprime_command += f' -fromstream={idx},{tprime_struct[\"imec\"][idx]}'\n",
        "\t\ttprime_command += f' -events={idx},{tprime_struct[\"sec_files\"][idx]},{tprime_sec_final}'\n",
        "\t# to extract sync signals and not run CatGT \n",
        "\tprint(f\"  Bash command: {tprime_command}\")\n",
        "\tsubprocess.run(tprime_command, cwd=tprime_path, shell=True)\n",
        "\tprint(f\"  TPrime complete. Time elapsed: {time.time() - start_time:.2f} seconds\")"
      ]
    },
    {
      "cell_type": "code",
      "execution_count": 9,
      "metadata": {
        "id": "qJU37tDoetxD"
      },
      "outputs": [],
      "source": [
        "def plot_results(settings):\n",
        "\n",
        "\t# outputs saved to results_dir\n",
        "\tresults_dir = Path(settings['results_dir']).joinpath('kilosort4')\n",
        "\tops = np.load(results_dir / 'ops.npy', allow_pickle=True).item()\n",
        "\tcamps = pd.read_csv(results_dir / 'cluster_Amplitude.tsv', sep='\\t')['Amplitude'].values\n",
        "\tcontam_pct = pd.read_csv(results_dir / 'cluster_ContamPct.tsv', sep='\\t')['ContamPct'].values\n",
        "\tchan_map =  np.load(results_dir / 'channel_map.npy')\n",
        "\ttemplates =  np.load(results_dir / 'templates.npy')\n",
        "\tchan_best = (templates**2).sum(axis=1).argmax(axis=-1)\n",
        "\tchan_best = chan_map[chan_best]\n",
        "\tamplitudes = np.load(results_dir / 'amplitudes.npy')\n",
        "\tst = np.load(results_dir / 'spike_times.npy')\n",
        "\tclu = np.load(results_dir / 'spike_clusters.npy')\n",
        "\tfiring_rates = np.unique(clu, return_counts=True)[1] * 30000 / st.max()\n",
        "\tdshift = ops['dshift']\n",
        "\n",
        "\trcParams['axes.spines.top'] = False\n",
        "\trcParams['axes.spines.right'] = False\n",
        "\tgray = .5 * np.ones(3)\n",
        "\n",
        "\tfig = plt.figure(figsize=(10,10), dpi=100)\n",
        "\tgrid = gridspec.GridSpec(3, 3, figure=fig, hspace=0.5, wspace=0.5)\n",
        "\n",
        "\tax = fig.add_subplot(grid[0,0])\n",
        "\tax.plot(np.arange(0, ops['Nbatches'])*2, dshift);\n",
        "\tax.set_xlabel('time (sec.)')\n",
        "\tax.set_ylabel('drift (um)')\n",
        "\n",
        "\tax = fig.add_subplot(grid[0,1:])\n",
        "\tt0 = 0\n",
        "\tt1 = np.nonzero(st > ops['fs']*5)[0][0]\n",
        "\tax.scatter(st[t0:t1]/30000., chan_best[clu[t0:t1]], s=0.5, color='k', alpha=0.25)\n",
        "\tax.set_xlim([0, 5])\n",
        "\tax.set_ylim([chan_map.max(), 0])\n",
        "\tax.set_xlabel('time (sec.)')\n",
        "\tax.set_ylabel('channel')\n",
        "\tax.set_title('spikes from units')\n",
        "\n",
        "\tax = fig.add_subplot(grid[1,0])\n",
        "\tnb=ax.hist(firing_rates, 20, color=gray)\n",
        "\tax.set_xlabel('firing rate (Hz)')\n",
        "\tax.set_ylabel('# of units')\n",
        "\n",
        "\tax = fig.add_subplot(grid[1,1])\n",
        "\tnb=ax.hist(camps, 20, color=gray)\n",
        "\tax.set_xlabel('amplitude')\n",
        "\tax.set_ylabel('# of units')\n",
        "\n",
        "\tax = fig.add_subplot(grid[1,2])\n",
        "\tnb=ax.hist(np.minimum(100, contam_pct), np.arange(0,105,5), color=gray)\n",
        "\tax.plot([10, 10], [0, nb[0].max()], 'k--')\n",
        "\tax.set_xlabel('% contamination')\n",
        "\tax.set_ylabel('# of units')\n",
        "\tax.set_title('< 10% = good units')\n",
        "\n",
        "\tfor k in range(2):\n",
        "\t\t\tax = fig.add_subplot(grid[2,k])\n",
        "\t\t\tis_ref = contam_pct<10.\n",
        "\t\t\tax.scatter(firing_rates[~is_ref], camps[~is_ref], s=3, color='r', label='mua', alpha=0.25)\n",
        "\t\t\tax.scatter(firing_rates[is_ref], camps[is_ref], s=3, color='b', label='good', alpha=0.25)\n",
        "\t\t\tax.set_ylabel('amplitude (a.u.)')\n",
        "\t\t\tax.set_xlabel('firing rate (Hz)')\n",
        "\t\t\tax.legend()\n",
        "\t\t\tif k==1:\n",
        "\t\t\t\t\tax.set_xscale('log')\n",
        "\t\t\t\t\tax.set_yscale('log')\n",
        "\t\t\t\t\tax.set_title('loglog')\n",
        "\n",
        "\t#\n",
        "\tprobe = ops['probe']\n",
        "\t# x and y position of probe sites\n",
        "\txc, yc = probe['xc'], probe['yc']\n",
        "\tnc = 16 # number of channels to show\n",
        "\tgood_units = np.nonzero(contam_pct <= 0.1)[0]\n",
        "\tmua_units = np.nonzero(contam_pct > 0.1)[0]\n",
        "\n",
        "\tgstr = ['good', 'mua']\n",
        "\tfor j in range(2):\n",
        "\t\t\tprint(f'~~~~~~~~~~~~~~ {gstr[j]} units ~~~~~~~~~~~~~~~~~~~~~~~~~~~~~~~~')\n",
        "\t\t\tprint('title = number of spikes from each unit')\n",
        "\t\t\tunits = good_units if j==0 else mua_units\n",
        "\t\t\tfig = plt.figure(figsize=(12,3), dpi=150)\n",
        "\t\t\tgrid = gridspec.GridSpec(2,20, figure=fig, hspace=0.25, wspace=0.5)\n",
        "\n",
        "\t\t\tfor k in range(40):\n",
        "\t\t\t\t\twi = units[np.random.randint(len(units))]\n",
        "\t\t\t\t\twv = templates[wi].copy()\n",
        "\t\t\t\t\tcb = chan_best[wi]\n",
        "\t\t\t\t\tnsp = (clu==wi).sum()\n",
        "\n",
        "\t\t\t\t\tax = fig.add_subplot(grid[k//20, k%20])\n",
        "\t\t\t\t\tn_chan = wv.shape[-1]\n",
        "\t\t\t\t\tic0 = max(0, cb-nc//2)\n",
        "\t\t\t\t\tic1 = min(n_chan, cb+nc//2)\n",
        "\t\t\t\t\twv = wv[:, ic0:ic1]\n",
        "\t\t\t\t\tx0, y0 = xc[ic0:ic1], yc[ic0:ic1]\n",
        "\n",
        "\t\t\t\t\tamp = 4\n",
        "\t\t\t\t\tfor ii, (xi,yi) in enumerate(zip(x0,y0)):\n",
        "\t\t\t\t\t\t\tt = np.arange(-wv.shape[0]//2,wv.shape[0]//2,1,'float32')\n",
        "\t\t\t\t\t\t\tt /= wv.shape[0] / 20\n",
        "\t\t\t\t\t\t\tax.plot(xi + t, yi + wv[:,ii]*amp, lw=0.5, color='k')\n",
        "\n",
        "\t\t\t\t\tax.set_title(f'{nsp}', fontsize='small')\n",
        "\t\t\t\t\tax.axis('off')\n",
        "\t\t\tplt.show()"
      ]
    },
    {
      "cell_type": "code",
      "execution_count": 10,
      "metadata": {},
      "outputs": [
        {
          "ename": "KeyError",
          "evalue": "'data_dir'",
          "output_type": "error",
          "traceback": [
            "\u001b[1;31m---------------------------------------------------------------------------\u001b[0m",
            "\u001b[1;31mKeyError\u001b[0m                                  Traceback (most recent call last)",
            "Cell \u001b[1;32mIn[10], line 1\u001b[0m\n\u001b[1;32m----> 1\u001b[0m plot_results(settings)\n",
            "Cell \u001b[1;32mIn[9], line 4\u001b[0m, in \u001b[0;36mplot_results\u001b[1;34m(settings)\u001b[0m\n\u001b[0;32m      1\u001b[0m \u001b[38;5;28;01mdef\u001b[39;00m \u001b[38;5;21mplot_results\u001b[39m(settings):\n\u001b[0;32m      2\u001b[0m \n\u001b[0;32m      3\u001b[0m \t\u001b[38;5;66;03m# outputs saved to results_dir\u001b[39;00m\n\u001b[1;32m----> 4\u001b[0m \tresults_dir \u001b[38;5;241m=\u001b[39m Path(settings[\u001b[38;5;124m'\u001b[39m\u001b[38;5;124mdata_dir\u001b[39m\u001b[38;5;124m'\u001b[39m])\u001b[38;5;241m.\u001b[39mjoinpath(\u001b[38;5;124m'\u001b[39m\u001b[38;5;124mkilosort4\u001b[39m\u001b[38;5;124m'\u001b[39m)\n\u001b[0;32m      5\u001b[0m \tops \u001b[38;5;241m=\u001b[39m np\u001b[38;5;241m.\u001b[39mload(results_dir \u001b[38;5;241m/\u001b[39m \u001b[38;5;124m'\u001b[39m\u001b[38;5;124mops.npy\u001b[39m\u001b[38;5;124m'\u001b[39m, allow_pickle\u001b[38;5;241m=\u001b[39m\u001b[38;5;28;01mTrue\u001b[39;00m)\u001b[38;5;241m.\u001b[39mitem()\n\u001b[0;32m      6\u001b[0m \tcamps \u001b[38;5;241m=\u001b[39m pd\u001b[38;5;241m.\u001b[39mread_csv(results_dir \u001b[38;5;241m/\u001b[39m \u001b[38;5;124m'\u001b[39m\u001b[38;5;124mcluster_Amplitude.tsv\u001b[39m\u001b[38;5;124m'\u001b[39m, sep\u001b[38;5;241m=\u001b[39m\u001b[38;5;124m'\u001b[39m\u001b[38;5;130;01m\\t\u001b[39;00m\u001b[38;5;124m'\u001b[39m)[\u001b[38;5;124m'\u001b[39m\u001b[38;5;124mAmplitude\u001b[39m\u001b[38;5;124m'\u001b[39m]\u001b[38;5;241m.\u001b[39mvalues\n",
            "\u001b[1;31mKeyError\u001b[0m: 'data_dir'"
          ]
        }
      ],
      "source": [
        "plot_results(settings[''])"
      ]
    },
    {
      "cell_type": "code",
      "execution_count": 11,
      "metadata": {},
      "outputs": [
        {
          "data": {
            "text/plain": [
              "{'filename': 'C:/Users/Alejandro/Downloads\\\\gandalf_20240126_g0\\\\gandalf_20240126_g0_imec1\\\\gandalf_20240126_g0_t0.imec1.ap.bin',\n",
              " 'results_dir': 'C:/Users/Alejandro/Downloads\\\\gandalf_20240126_g0\\\\gandalf_20240126_g0_imec1\\\\gandalf_20240126_g0_t0.imec1_ks4',\n",
              " 'do_CAR': True,\n",
              " 'n_channels': 385,\n",
              " 'probe_name': 'C:/Users/Alejandro/Documents/GitHub/Kilosort4-SGLX/configFiles/neuropixels_NHP_channel_map_linear_v1.mat'}"
            ]
          },
          "execution_count": 11,
          "metadata": {},
          "output_type": "execute_result"
        }
      ],
      "source": [
        "settings"
      ]
    },
    {
      "cell_type": "code",
      "execution_count": null,
      "metadata": {},
      "outputs": [],
      "source": []
    }
  ],
  "metadata": {
    "accelerator": "GPU",
    "colab": {
      "gpuType": "L4",
      "machine_shape": "hm",
      "provenance": []
    },
    "kernelspec": {
      "display_name": "Python 3",
      "name": "python3"
    },
    "language_info": {
      "codemirror_mode": {
        "name": "ipython",
        "version": 3
      },
      "file_extension": ".py",
      "mimetype": "text/x-python",
      "name": "python",
      "nbconvert_exporter": "python",
      "pygments_lexer": "ipython3",
      "version": "3.11.8"
    }
  },
  "nbformat": 4,
  "nbformat_minor": 0
}
